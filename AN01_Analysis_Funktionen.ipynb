{
  "nbformat": 4,
  "nbformat_minor": 0,
  "metadata": {
    "colab": {
      "name": "AN01_Analysis_Funktionen.ipynb",
      "provenance": [],
      "collapsed_sections": [],
      "include_colab_link": true
    },
    "kernelspec": {
      "name": "python3",
      "display_name": "Python 3"
    }
  },
  "cells": [
    {
      "cell_type": "markdown",
      "metadata": {
        "id": "view-in-github",
        "colab_type": "text"
      },
      "source": [
        "<a href=\"https://colab.research.google.com/github/tobschaffer/vorlesungen-tcc/blob/master/AN01_Analysis_Funktionen.ipynb\" target=\"_parent\"><img src=\"https://colab.research.google.com/assets/colab-badge.svg\" alt=\"Open In Colab\"/></a>"
      ]
    },
    {
      "cell_type": "markdown",
      "metadata": {
        "id": "iJvJ1k497AMt",
        "colab_type": "text"
      },
      "source": [
        "# AN01 Analysis: Funktionen\n",
        "\n",
        "## 1. Funktionsbegriff"
      ]
    },
    {
      "cell_type": "code",
      "metadata": {
        "id": "yIXEq9Rl69k0",
        "colab_type": "code",
        "colab": {}
      },
      "source": [
        ""
      ],
      "execution_count": 0,
      "outputs": []
    },
    {
      "cell_type": "markdown",
      "metadata": {
        "id": "BmBvieffv2nR",
        "colab_type": "text"
      },
      "source": [
        "## 2. Stetigkeit"
      ]
    },
    {
      "cell_type": "code",
      "metadata": {
        "id": "cIIWGS1Wv8t5",
        "colab_type": "code",
        "colab": {}
      },
      "source": [
        ""
      ],
      "execution_count": 0,
      "outputs": []
    }
  ]
}