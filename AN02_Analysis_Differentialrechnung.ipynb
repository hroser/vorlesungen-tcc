{
  "nbformat": 4,
  "nbformat_minor": 0,
  "metadata": {
    "colab": {
      "name": "AN02 Analysis - Differentialrechnung.ipynb",
      "provenance": [],
      "include_colab_link": true
    },
    "kernelspec": {
      "name": "python3",
      "display_name": "Python 3"
    }
  },
  "cells": [
    {
      "cell_type": "markdown",
      "metadata": {
        "id": "view-in-github",
        "colab_type": "text"
      },
      "source": [
        "<a href=\"https://colab.research.google.com/github/tobschaffer/vorlesungen-tcc/blob/master/AN02_Analysis_Differentialrechnung.ipynb\" target=\"_parent\"><img src=\"https://colab.research.google.com/assets/colab-badge.svg\" alt=\"Open In Colab\"/></a>"
      ]
    },
    {
      "cell_type": "markdown",
      "metadata": {
        "id": "vn-ECB6qfCMd",
        "colab_type": "text"
      },
      "source": [
        "# AN02 Analysis - Differentialrechnung"
      ]
    },
    {
      "cell_type": "markdown",
      "metadata": {
        "id": "_Y-ucwxk2eQZ",
        "colab_type": "text"
      },
      "source": [
        "Übungsaufgaben:\n",
        "\n",
        "B25, B26, B27, B28 (gew. Ableitungen)  \n",
        "E1, E2, E3, E4, E5, E6 (partielle Ableitungen)  \n",
        "E24, E25, E26, E27 (verallg. Kettenregel)  \n",
        "E13, E14, E15, E16 (partielle Ableitungen höher Ord., Satz v. Schwarz)  \n",
        "\n"
      ]
    },
    {
      "cell_type": "markdown",
      "metadata": {
        "id": "oYf6-7QfzATa",
        "colab_type": "text"
      },
      "source": [
        "Def. Ableitung einer gew. Funktion $f'(x)$\n",
        "\n",
        "Def. partielle Ableitungen einer Funktion in mehreren Variablen $\\frac{\\partial f(x,y,z)}{\\partial x}$\n",
        "\n",
        "Ableitungsregeln  \n",
        "- für gew. Ableitungen: Linearität, Produktregel, Quotientenregel, Kettenregel\n",
        "- für partielle Ableitungen: verallgemeinerte Kettenregel, gemischte partielle Ableitungen/part. Abl. höherer Ord. und Satz von Schwarz, totales Differential\n",
        "\n",
        "Def. Gradient und Nabla Operator\n",
        "\n",
        "\n",
        "\n",
        "\n"
      ]
    },
    {
      "cell_type": "code",
      "metadata": {
        "id": "iBTst7JV0PYX",
        "colab_type": "code",
        "colab": {}
      },
      "source": [
        ""
      ],
      "execution_count": 0,
      "outputs": []
    }
  ]
}