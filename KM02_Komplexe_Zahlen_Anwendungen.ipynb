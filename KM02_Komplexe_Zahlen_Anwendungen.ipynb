{
  "nbformat": 4,
  "nbformat_minor": 0,
  "metadata": {
    "colab": {
      "name": "KM02 Komplexe Zahlen - Anwendungen.ipynb",
      "provenance": [],
      "include_colab_link": true
    },
    "kernelspec": {
      "name": "python3",
      "display_name": "Python 3"
    }
  },
  "cells": [
    {
      "cell_type": "markdown",
      "metadata": {
        "id": "view-in-github",
        "colab_type": "text"
      },
      "source": [
        "<a href=\"https://colab.research.google.com/github/tobschaffer/vorlesungen-tcc/blob/master/KM02_Komplexe_Zahlen_Anwendungen.ipynb\" target=\"_parent\"><img src=\"https://colab.research.google.com/assets/colab-badge.svg\" alt=\"Open In Colab\"/></a>"
      ]
    },
    {
      "cell_type": "markdown",
      "metadata": {
        "id": "_ng8UpVndBnK",
        "colab_type": "text"
      },
      "source": [
        "# KM02 Komplexe Zahlen - Anwendungen"
      ]
    },
    {
      "cell_type": "code",
      "metadata": {
        "id": "R0j4voB5c8V1",
        "colab_type": "code",
        "colab": {}
      },
      "source": [
        ""
      ],
      "execution_count": 0,
      "outputs": []
    }
  ]
}