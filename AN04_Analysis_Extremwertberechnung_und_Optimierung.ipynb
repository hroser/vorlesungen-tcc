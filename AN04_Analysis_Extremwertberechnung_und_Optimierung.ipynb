{
  "nbformat": 4,
  "nbformat_minor": 0,
  "metadata": {
    "colab": {
      "name": "AN04 Analysis - Extremwertberechnung und Optimierung.ipynb",
      "provenance": [],
      "include_colab_link": true
    },
    "kernelspec": {
      "name": "python3",
      "display_name": "Python 3"
    }
  },
  "cells": [
    {
      "cell_type": "markdown",
      "metadata": {
        "id": "view-in-github",
        "colab_type": "text"
      },
      "source": [
        "<a href=\"https://colab.research.google.com/github/tobschaffer/vorlesungen-tcc/blob/master/AN04_Analysis_Extremwertberechnung_und_Optimierung.ipynb\" target=\"_parent\"><img src=\"https://colab.research.google.com/assets/colab-badge.svg\" alt=\"Open In Colab\"/></a>"
      ]
    },
    {
      "cell_type": "markdown",
      "metadata": {
        "id": "8f4nla7Ugvv0",
        "colab_type": "text"
      },
      "source": [
        "# AN04 Analysis - Extremwertberechnung und Optimierung"
      ]
    },
    {
      "cell_type": "code",
      "metadata": {
        "id": "0L-Hnu4Dgu6q",
        "colab_type": "code",
        "colab": {}
      },
      "source": [
        ""
      ],
      "execution_count": 0,
      "outputs": []
    }
  ]
}