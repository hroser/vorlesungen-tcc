{
  "nbformat": 4,
  "nbformat_minor": 0,
  "metadata": {
    "colab": {
      "name": "SI03 Simulationstechnik - Lineare zeitinvariante Systeme.ipynb",
      "provenance": [],
      "include_colab_link": true
    },
    "kernelspec": {
      "name": "python3",
      "display_name": "Python 3"
    }
  },
  "cells": [
    {
      "cell_type": "markdown",
      "metadata": {
        "id": "view-in-github",
        "colab_type": "text"
      },
      "source": [
        "<a href=\"https://colab.research.google.com/github/tobschaffer/vorlesungen-tcc/blob/master/SI03_Simulationstechnik_Lineare_zeitinvariante_Systeme.ipynb\" target=\"_parent\"><img src=\"https://colab.research.google.com/assets/colab-badge.svg\" alt=\"Open In Colab\"/></a>"
      ]
    },
    {
      "cell_type": "markdown",
      "metadata": {
        "id": "QaiTRVTfj3tT",
        "colab_type": "text"
      },
      "source": [
        "# SI03 Simulationstechnik - Lineare zeitinvariante Systeme"
      ]
    },
    {
      "cell_type": "code",
      "metadata": {
        "id": "NIMP9uhNj12g",
        "colab_type": "code",
        "colab": {}
      },
      "source": [
        ""
      ],
      "execution_count": 0,
      "outputs": []
    }
  ]
}