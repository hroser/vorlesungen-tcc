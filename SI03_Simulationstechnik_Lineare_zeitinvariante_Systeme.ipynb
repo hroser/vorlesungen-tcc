{
  "nbformat": 4,
  "nbformat_minor": 0,
  "metadata": {
    "colab": {
      "name": "SI03 Simulationstechnik - Lineare zeitinvariante Systeme.ipynb",
      "provenance": [],
      "include_colab_link": true
    },
    "kernelspec": {
      "name": "python3",
      "display_name": "Python 3"
    }
  },
  "cells": [
    {
      "cell_type": "markdown",
      "metadata": {
        "id": "view-in-github",
        "colab_type": "text"
      },
      "source": [
        "<a href=\"https://colab.research.google.com/github/tobschaffer/vorlesungen-tcc/blob/master/SI03_Simulationstechnik_Lineare_zeitinvariante_Systeme.ipynb\" target=\"_parent\"><img src=\"https://colab.research.google.com/assets/colab-badge.svg\" alt=\"Open In Colab\"/></a>"
      ]
    },
    {
      "cell_type": "markdown",
      "metadata": {
        "id": "QaiTRVTfj3tT",
        "colab_type": "text"
      },
      "source": [
        "# SI03 Simulationstechnik - Lineare zeitinvariante Systeme (LTI Systeme)"
      ]
    },
    {
      "cell_type": "markdown",
      "metadata": {
        "id": "hhrF7eggPheK",
        "colab_type": "text"
      },
      "source": [
        "war in Vorlesung Kapitel   \n",
        "I.6 Lineare Systeme mit einer Eingangs- und Ausgangsvariablen"
      ]
    },
    {
      "cell_type": "markdown",
      "metadata": {
        "id": "YJyFndyXPuqd",
        "colab_type": "text"
      },
      "source": [
        "Themen:  \n",
        "- allg. lineare inhomogene gewöhnliche DGL mit einer Eingangs- und Ausgangsvariablen\n",
        "- Übertragungsfunktionen (Laplace-Transformation)\n",
        "- Beispiele in Matlab/Scilab/Python: Simulation einer Impuls- oder Sprungantwort (siehe unten)\n",
        "- Blockschaltbilder (in Matlab und Scilab/Xcos)\n",
        "- Zustandsraumdarstellung und Systemmatrix: DGL höherer Ord. wird zurückgeführt auf DGL-System erster Ord. (nicht für Rechenteil)\n"
      ]
    },
    {
      "cell_type": "code",
      "metadata": {
        "id": "NIMP9uhNj12g",
        "colab_type": "code",
        "colab": {
          "base_uri": "https://localhost:8080/",
          "height": 295
        },
        "outputId": "2d588235-db1b-4d4c-cfb3-18dd5c9cc147"
      },
      "source": [
        "from scipy import signal\n",
        "import matplotlib.pyplot as plt\n",
        "\n",
        "# define linear time invariant system\n",
        "G = 9.81\n",
        "m = 1\n",
        "d = 1\n",
        "c = 1\n",
        "sys = signal.lti([-G], [m, d, c])\n",
        "\n",
        "# calculate step response\n",
        "t, a = sys.step()\n",
        "\n",
        "# plot step response\n",
        "plt.plot(t, a)\n",
        "plt.xlabel('Time [s]')\n",
        "plt.ylabel('Amplitude')\n",
        "plt.title('Step response')\n",
        "plt.grid()\n",
        "plt.show()"
      ],
      "execution_count": 1,
      "outputs": [
        {
          "output_type": "display_data",
          "data": {
            "image/png": "[encoded data removed]",
            "text/plain": [
              "<Figure size 432x288 with 1 Axes>"
            ]
          },
          "metadata": {
            "tags": []
          }
        }
      ]
    },
    {
      "cell_type": "code",
      "metadata": {
        "id": "oz_eDTuCQvFY",
        "colab_type": "code",
        "colab": {}
      },
      "source": [
        ""
      ],
      "execution_count": 0,
      "outputs": []
    }
  ]
}