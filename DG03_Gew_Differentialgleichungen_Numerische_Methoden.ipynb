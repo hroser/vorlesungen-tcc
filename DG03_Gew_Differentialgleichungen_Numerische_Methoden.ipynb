{
  "nbformat": 4,
  "nbformat_minor": 0,
  "metadata": {
    "colab": {
      "name": "DG03 Gew. Differentialgleichungen - Numerische Methoden.ipynb",
      "provenance": [],
      "include_colab_link": true
    },
    "kernelspec": {
      "name": "python3",
      "display_name": "Python 3"
    }
  },
  "cells": [
    {
      "cell_type": "markdown",
      "metadata": {
        "id": "view-in-github",
        "colab_type": "text"
      },
      "source": [
        "<a href=\"https://colab.research.google.com/github/tobschaffer/vorlesungen-tcc/blob/master/DG03_Gew_Differentialgleichungen_Numerische_Methoden.ipynb\" target=\"_parent\"><img src=\"https://colab.research.google.com/assets/colab-badge.svg\" alt=\"Open In Colab\"/></a>"
      ]
    },
    {
      "cell_type": "markdown",
      "metadata": {
        "id": "fQb6vP-UiiJa",
        "colab_type": "text"
      },
      "source": [
        "# DG03 Gew. Differentialgleichungen - Numerische Methoden"
      ]
    },
    {
      "cell_type": "code",
      "metadata": {
        "id": "-8yGTfDUihMY",
        "colab_type": "code",
        "colab": {}
      },
      "source": [
        ""
      ],
      "execution_count": 0,
      "outputs": []
    }
  ]
}