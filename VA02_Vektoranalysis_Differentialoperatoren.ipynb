{
  "nbformat": 4,
  "nbformat_minor": 0,
  "metadata": {
    "colab": {
      "name": "VA02 Vektoranalysis - Differentialoperatoren.ipynb",
      "provenance": [],
      "include_colab_link": true
    },
    "kernelspec": {
      "name": "python3",
      "display_name": "Python 3"
    }
  },
  "cells": [
    {
      "cell_type": "markdown",
      "metadata": {
        "id": "view-in-github",
        "colab_type": "text"
      },
      "source": [
        "<a href=\"https://colab.research.google.com/github/tobschaffer/vorlesungen-tcc/blob/master/VA02_Vektoranalysis_Differentialoperatoren.ipynb\" target=\"_parent\"><img src=\"https://colab.research.google.com/assets/colab-badge.svg\" alt=\"Open In Colab\"/></a>"
      ]
    },
    {
      "cell_type": "markdown",
      "metadata": {
        "id": "ULywny3ld-pX",
        "colab_type": "text"
      },
      "source": [
        "# VA02 Vektoranalysis - Differentialoperatoren"
      ]
    },
    {
      "cell_type": "markdown",
      "metadata": {
        "id": "okMLVvFbUatq",
        "colab_type": "text"
      },
      "source": [
        "**Def. quellenfreies Vektorfeld:**  \n",
        "\n",
        "Ein Vektorfeld $\\vec F$ heißt *quellenfrei*, wenn gilt:\n",
        "$$\n",
        "\\text{div}(\\vec F) = 0\n",
        "$$<br>\n",
        "\n",
        "*Quellenfreie Felder* sind immer sogenannte *Wirbelfelder*. Das heißt, für ein quellenfreies Vektorfeld $\\vec F$ gibt es immer ein Vektorfeld $\\vec E$, so dass gilt:\n",
        "$$\n",
        "\\vec F = \\text{rot}(\\vec E)\n",
        "$$<br>\n",
        "\n",
        "Andererseits ist jedes Wirbelfeld $F = \\text{rot}(E)$ auch quellenfrei:  \n",
        "$$\n",
        "\\text{div}(F) = \\text{div}(\\text{rot}(E)) = 0\n",
        "$$<br>\n",
        "\n",
        "Allgemein ist die Komposition der Differentialoperatoren $\\text{div}$ und $\\text{rot}$ gleich Null:\n",
        "$$\n",
        "\\text{div} \\circ \\text{rot} = 0\n",
        "$$\n",
        "\n",
        "<br><br>\n",
        "\n",
        "**Def. wirbelfreies Vektorfeld:**  \n",
        "\n",
        "Ein Vektorfeld $F$ heißt wirbelfrei, wenn gilt:\n",
        "$$\n",
        "rot(F) = 0\n",
        "$$\n",
        "\n",
        "\n",
        "Komposition von Differentialoperatoren etc.\n",
        "\n"
      ]
    },
    {
      "cell_type": "markdown",
      "metadata": {
        "id": "9s21IBPyOJwL",
        "colab_type": "text"
      },
      "source": [
        "Übungsaufgaben:\n",
        "\n",
        "<br><br>\n",
        "\n",
        "A1 Bestimmen Sie die Divergenz der folgenden Vektorfelder:\n",
        "\n",
        "(a) $F(x,y) = \\left(\\begin{array}{c} -y \\\\ x \\end{array}\\right)$  \n",
        "(b) $F(x,y) = \\left(\\begin{array}{c} x^3+1 \\\\ xy^2 \\end{array}\\right)$  \n",
        "(c) $v(x,y) = \\left(\\begin{array}{c} x\\cdot e^{-y} \\\\ y\\cdot e^{-x} \\end{array}\\right)$  \n",
        "(d) $F(x,y) = (x^2 + y^2)^{-1}\\left(\\begin{array}{c} x \\\\ y \\end{array}\\right)$\n",
        "\n",
        "<br><br>\n",
        "\n",
        "A2 In welchen Punkten der x,y-Ebene verschwindet die Divergenz des Vektorfeldes\n",
        "\n",
        "$F(x,y) = \\left(\\begin{array}{c} xy^2 \\\\ x^2y-4y \\end{array}\\right)$ \n",
        "\n",
        "<br><br>\n",
        "\n",
        "A3 Bestimmen Sie die Divergenz der folgenden Vektorfelder:\n",
        "\n",
        "(a) $F(x,y,z) = \\left(\\begin{array}{c} 2x^3z^2 \\\\ x^2-z^2 \\\\ xyz \\end{array}\\right)$  \n",
        "(b) $v(x,y,z) = \\left(\\begin{array}{c} xy - x^2z \\\\ 2yz^2 \\\\ x^2y + yz \\end{array}\\right)$  \n",
        "  \n",
        "<br><br>\n",
        "\n",
        "A4 Berechnen Sie den Gradienten des Skalarfeldes $\\Phi$ sowie dessen Betrag im jeweiligen Punkt $P$:\n",
        "\n",
        "(a) $\\Phi(x,y,z) = 10x^2y^3 - 5xyz^2$ mit $P = (1, -1, 2))$\n",
        "\n",
        "(b) $\\Phi(x,y,z) = x^2\\cdot e^{yz} + yz^3$ mit $P = (2, 0, 1))$\n",
        "\n",
        "(c) $\\Phi(x,y,z) = x^2 + y^2 + z^2$ mit $P = (1, 2, -2))$\n",
        "\n",
        "<br><br>\n",
        "\n",
        "A5 Bestimmen Sie die Rotation der folgenden ebenen Vektorfelder:\n",
        "\n",
        "(a) $\\displaystyle F(x,y) = \\frac{1}{\\sqrt{x^2+y^2}}\\left(\\begin{array}{c} y \\\\ -x \\end{array}\\right)$ \n",
        "\n",
        "(b) $\\displaystyle F(x,y) = \\frac{1}{\\sqrt{x^2+y^2}}\\left(\\begin{array}{c} x-y+2 \\\\ x+y-1 \\end{array}\\right)$ \n",
        "\n",
        "(c) $\\displaystyle F(x,y) = \\left(\\begin{array}{c} x^2y^3-x \\\\ xy^2 + e^y \\end{array}\\right)$ \n",
        "\n",
        "<br><br>\n",
        "\n",
        "A6 Bestimmen Sie die Rotation der folgenden räumlichen Vektorfelder:\n",
        "\n",
        "(a) $\\displaystyle F(x,y,z) = \\left(\\begin{array}{c} xy-z^2 \\\\ 2xyz \\\\ x^2z - y^2z \\end{array}\\right)$ \n",
        "\n",
        "(b) $\\displaystyle F(x,y) = \\frac{1}{x^2+y^2+z^2}\\left(\\begin{array}{c} x \\\\ y \\\\ z \\end{array}\\right)$ "
      ]
    },
    {
      "cell_type": "code",
      "metadata": {
        "id": "k5r24Emsd9uk",
        "colab_type": "code",
        "colab": {}
      },
      "source": [
        ""
      ],
      "execution_count": 0,
      "outputs": []
    }
  ]
}