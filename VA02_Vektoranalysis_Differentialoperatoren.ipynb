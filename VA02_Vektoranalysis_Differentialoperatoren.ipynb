{
  "nbformat": 4,
  "nbformat_minor": 0,
  "metadata": {
    "colab": {
      "name": "VA02 Vektoranalysis - Differentialoperatoren.ipynb",
      "provenance": [],
      "include_colab_link": true
    },
    "kernelspec": {
      "name": "python3",
      "display_name": "Python 3"
    }
  },
  "cells": [
    {
      "cell_type": "markdown",
      "metadata": {
        "id": "view-in-github",
        "colab_type": "text"
      },
      "source": [
        "<a href=\"https://colab.research.google.com/github/tobschaffer/vorlesungen-tcc/blob/master/VA02_Vektoranalysis_Differentialoperatoren.ipynb\" target=\"_parent\"><img src=\"https://colab.research.google.com/assets/colab-badge.svg\" alt=\"Open In Colab\"/></a>"
      ]
    },
    {
      "cell_type": "markdown",
      "metadata": {
        "id": "ULywny3ld-pX",
        "colab_type": "text"
      },
      "source": [
        "# VA02 Vektoranalysis - Differentialoperatoren"
      ]
    },
    {
      "cell_type": "markdown",
      "metadata": {
        "id": "9s21IBPyOJwL",
        "colab_type": "text"
      },
      "source": [
        "Übungsaufgaben:\n",
        "\n",
        "A1 Bestimmen Sie die Divergenz der folgenden Vektorfelder:\n",
        "\n",
        "(a) $F(x,y) = \\left(\\begin{array}{c} -y \\\\ x \\end{array}\\right)$  \n",
        "(b) $F(x,y) = \\left(\\begin{array}{c} x^3+1 \\\\ xy^2 \\end{array}\\right)$  \n",
        "(c) $v(x,y) = \\left(\\begin{array}{c} x\\cdot e^{-y} \\\\ y\\cdot e^{-x} \\end{array}\\right)$  \n",
        "(d) $F(x,y) = (x^2 + y^2)^{-1}\\left(\\begin{array}{c} x \\\\ y \\end{array}\\right)$\n",
        "\n",
        "A2 In welchen Punkten der x,y-Ebene verschwindet die Divergenz des Vektorfeldes\n",
        "\n",
        "$F(x,y) = \\left(\\begin{array}{c} xy^2 \\\\ x^2y-4y \\end{array}\\right)$ \n",
        "\n",
        "A3 Bestimmen Sie die Divergenz der folgenden Vektorfelder:\n",
        "\n",
        "(a) $F(x,y,z) = \\left(\\begin{array}{c} 2x^3z^2 \\\\ x^2-z^2 \\\\ xyz \\end{array}\\right)$  \n",
        "(b) $v(x,y,z) = \\left(\\begin{array}{c} xy - x^2z \\\\ 2yz^2 \\\\ x^2y + yz \\end{array}\\right)$  "
      ]
    },
    {
      "cell_type": "code",
      "metadata": {
        "id": "k5r24Emsd9uk",
        "colab_type": "code",
        "colab": {}
      },
      "source": [
        ""
      ],
      "execution_count": 0,
      "outputs": []
    }
  ]
}