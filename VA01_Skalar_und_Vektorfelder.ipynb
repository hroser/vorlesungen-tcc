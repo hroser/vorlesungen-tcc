{
  "nbformat": 4,
  "nbformat_minor": 0,
  "metadata": {
    "colab": {
      "name": "VA01 Skalar- und Vektorfelder.ipynb",
      "provenance": [],
      "include_colab_link": true
    },
    "kernelspec": {
      "name": "python3",
      "display_name": "Python 3"
    }
  },
  "cells": [
    {
      "cell_type": "markdown",
      "metadata": {
        "id": "view-in-github",
        "colab_type": "text"
      },
      "source": [
        "<a href=\"https://colab.research.google.com/github/tobschaffer/vorlesungen-tcc/blob/master/VA01_Skalar_und_Vektorfelder.ipynb\" target=\"_parent\"><img src=\"https://colab.research.google.com/assets/colab-badge.svg\" alt=\"Open In Colab\"/></a>"
      ]
    },
    {
      "cell_type": "markdown",
      "metadata": {
        "id": "DOpcy3Sfz89T",
        "colab_type": "text"
      },
      "source": [
        "# VA01 Vektoranalysis: Skalar- und Vektorfelder"
      ]
    },
    {
      "cell_type": "markdown",
      "metadata": {
        "id": "gjcHFKs47WyT",
        "colab_type": "text"
      },
      "source": [
        "Ein Skalarfeld ist eine reellwertige Funktion $f(x,y,z) \\in \\mathbb{R}$ in mehreren Variablen.\n",
        "\n",
        "Eine Vektorfeld ist eine vektorwertige Funktion $v(x, y, z) = \\left( \\begin{array}{c} v_1(x, y, z) \\\\ v_2(x, y, z) \\\\ v_3(x, y, z) \\end{array} \\right)\\in \\mathbb{R}^3$ in mehreren Variablen.\n",
        "\n"
      ]
    },
    {
      "cell_type": "code",
      "metadata": {
        "id": "2SPVvDCC0IQ8",
        "colab_type": "code",
        "colab": {}
      },
      "source": [
        ""
      ],
      "execution_count": 0,
      "outputs": []
    }
  ]
}