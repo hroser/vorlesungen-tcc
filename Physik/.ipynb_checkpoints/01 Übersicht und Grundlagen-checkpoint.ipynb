{
 "cells": [
  {
   "cell_type": "markdown",
   "metadata": {
    "slideshow": {
     "slide_type": "slide"
    }
   },
   "source": [
    "# Vorlesung Angewandte Physik"
   ]
  },
  {
   "cell_type": "markdown",
   "metadata": {},
   "source": [
    "## Vorlesungsinhalte"
   ]
  },
  {
   "cell_type": "markdown",
   "metadata": {
    "slideshow": {
     "slide_type": "slide"
    }
   },
   "source": [
    "--------\n",
    "Semester 1\n",
    "\n",
    "#### 1. Grundlagen\n",
    "\n",
    "1.1 Physikalische Größen und Einheiten\n",
    " \n",
    "1.2 Datenanalyse und Messunsicherheit"
   ]
  },
  {
   "cell_type": "markdown",
   "metadata": {
    "slideshow": {
     "slide_type": "slide"
    }
   },
   "source": [
    "#### 2. Mechanik\n",
    "\n",
    "2.1 Mechanik starrer Körper\n",
    "\n",
    "2.2 Mechanik deformierbarer Körper"
   ]
  },
  {
   "cell_type": "markdown",
   "metadata": {
    "slideshow": {
     "slide_type": "slide"
    }
   },
   "source": [
    "#### 3. Schwingungen und Wellen\n",
    "\n",
    "3.1 Mechanische Schwingungen\n",
    "\n",
    "3.2 Wellen"
   ]
  },
  {
   "cell_type": "markdown",
   "metadata": {
    "slideshow": {
     "slide_type": "slide"
    }
   },
   "source": [
    "--------\n",
    "Semester 2\n",
    "\n",
    "\n",
    "#### 4. Thermodynamik\n",
    "\n",
    "4.1 Klassische Thermodynamik\n",
    "\n",
    "4.2 Kinetische Gastheorie\n",
    "\n",
    "4.3 Phasenübergänge"
   ]
  },
  {
   "cell_type": "markdown",
   "metadata": {
    "slideshow": {
     "slide_type": "slide"
    }
   },
   "source": [
    "#### 5. Elektrodynamik\n",
    "\n",
    "5.1 Elektrostatik\n",
    "\n",
    "5.2 Magnetfelder und Induktion\n",
    "\n",
    "5.3 Elektromagnetismus"
   ]
  },
  {
   "cell_type": "markdown",
   "metadata": {
    "collapsed": true,
    "slideshow": {
     "slide_type": "slide"
    }
   },
   "source": [
    "#### 6. Moderne Physik\n",
    "\n",
    "6.1 Relativistische Physik\n",
    "\n",
    "6.1 Welle-Teilchen Dualismus\n",
    "\n",
    "6.2 Atom- und Kernphysik"
   ]
  },
  {
   "cell_type": "markdown",
   "metadata": {
    "slideshow": {
     "slide_type": "slide"
    }
   },
   "source": [
    "#### Literatur:\n",
    "\n",
    "Meschede, Dieter (Hrsg.): *Gerthsen Physik*\n",
    "\n",
    "Tipler, Paul A.; Mosca, Gene: *Physik für Wissenschaftler und Ingenieure*\n",
    "\n",
    "Harten, Ulrich: *Physik - Eine Einführung für Ingenieure und Naturwissenschaftler*\n",
    "\n",
    "Dobrinski / Krakau / Vogel: *Physik für Ingenieure*\n",
    "\n",
    "Binomi Verlag: *Formeln + Hilfen Höhere Mathematik*\n",
    "\n",
    "Papula Lothar: *Mathematische Formelsammlung für Ingenieure und Naturwissenschaftler*"
   ]
  },
  {
   "cell_type": "markdown",
   "metadata": {
    "slideshow": {
     "slide_type": "slide"
    }
   },
   "source": [
    "1. Grundlagen\n",
    "\n",
    "1.1. "
   ]
  }
 ],
 "metadata": {
  "celltoolbar": "Slideshow",
  "kernelspec": {
   "display_name": "Python 3",
   "language": "python",
   "name": "python3"
  },
  "language_info": {
   "codemirror_mode": {
    "name": "ipython",
    "version": 3
   },
   "file_extension": ".py",
   "mimetype": "text/x-python",
   "name": "python",
   "nbconvert_exporter": "python",
   "pygments_lexer": "ipython3",
   "version": "3.6.0"
  }
 },
 "nbformat": 4,
 "nbformat_minor": 2
}
