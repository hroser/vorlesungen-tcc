{
  "nbformat": 4,
  "nbformat_minor": 0,
  "metadata": {
    "colab": {
      "name": "SI02 Simulationstechnik - Mehrkörpersimulation.ipynb",
      "provenance": [],
      "include_colab_link": true
    },
    "kernelspec": {
      "name": "python3",
      "display_name": "Python 3"
    }
  },
  "cells": [
    {
      "cell_type": "markdown",
      "metadata": {
        "id": "view-in-github",
        "colab_type": "text"
      },
      "source": [
        "<a href=\"https://colab.research.google.com/github/tobschaffer/vorlesungen-tcc/blob/master/SI02_Simulationstechnik_Mehrk%C3%B6rpersimulation.ipynb\" target=\"_parent\"><img src=\"https://colab.research.google.com/assets/colab-badge.svg\" alt=\"Open In Colab\"/></a>"
      ]
    },
    {
      "cell_type": "markdown",
      "metadata": {
        "id": "y9WzEcQTjmzS",
        "colab_type": "text"
      },
      "source": [
        "# SI02 Simulationstechnik - Mehrkörpersimulation"
      ]
    },
    {
      "cell_type": "markdown",
      "metadata": {
        "id": "7UxFGo91MGI8",
        "colab_type": "text"
      },
      "source": [
        "Prüfung:  \n",
        "- Multiple Choice Teil\n",
        "- Aufgabe zur Mehrkörpersim. flaches System (wie auf Übungszettel)\n",
        "- Aufgabe zu lin. Systemen, Blockschaltbild\n",
        "- Aufgabe zu numerischen Methoden (Euler-Verfahren, z.B. einen Euler-Schritt berechnen)\n",
        "- evtl. Aufgabe zu FEM, z.B. finite Differenzen (eher im Fragenteil)"
      ]
    },
    {
      "cell_type": "markdown",
      "metadata": {
        "id": "ZzBZ9VHkNv5F",
        "colab_type": "text"
      },
      "source": [
        "- Lagebeschreibung: Translationslage, Rotationslage (Kardan- und Eulerwinkel, Eulerparameter), Transformationsmatrizen\n",
        "- Lage Punkt auf Körper (siehe Formelzettel)\n",
        "- Euler'sche Geschwindigkeitsgleichung\n",
        "- allg. Kraftelemente, insb. Feder, Feder-Dämpfer, Lagerelement, Kontaktelemente (einseitig wirkende Feder-Dämpfer-El.)\n",
        "- kinematische und dynamische Differentialgleichungen\n",
        "- holonome und nicht-holonome Bindungen\n",
        "- num. Meth. Euler-Verfahren (explizit und implizit, Runge-Kutta-Verfahren)"
      ]
    },
    {
      "cell_type": "markdown",
      "metadata": {
        "id": "yQbKk4nEKEjk",
        "colab_type": "text"
      },
      "source": [
        "## 1. Dynamik starrer Körper\n",
        "\n",
        "## 2. Bewegungsgleichungen\n",
        "\n",
        "## 3. Kraftelemente\n",
        "\n",
        "## 4. Kinematische Bindungen und verall. Zustandsvektor\n",
        "\n",
        "## 5. Numerische Methoden\n",
        "\n"
      ]
    },
    {
      "cell_type": "markdown",
      "metadata": {
        "id": "rIxlCArGhtti",
        "colab_type": "text"
      },
      "source": [
        "![alt text](https://drive.google.com/uc?export=download&id=1uMT_l0di3vSW5lZYx1GXbwAulaucBeX_)\n",
        "\n"
      ]
    },
    {
      "cell_type": "code",
      "metadata": {
        "id": "tY-IyJqKjlyz",
        "colab_type": "code",
        "colab": {}
      },
      "source": [
        ""
      ],
      "execution_count": 0,
      "outputs": []
    },
    {
      "cell_type": "markdown",
      "metadata": {
        "id": "FD3eOxr5qpZ5",
        "colab_type": "text"
      },
      "source": [
        "Beispiel Kinematik"
      ]
    },
    {
      "cell_type": "code",
      "metadata": {
        "id": "31AGxTVpqrU5",
        "colab_type": "code",
        "colab": {
          "base_uri": "https://localhost:8080/",
          "height": 609
        },
        "outputId": "4dc9ae56-e8a5-40f8-d38a-5070cb3f3ce5"
      },
      "source": [
        "import numpy as np\n",
        "import matplotlib.pyplot as plt\n",
        "\n",
        "def r(l, a, b, alpha, beta):\n",
        "  return [l + a * np.cos(alpha) + b * np.cos(alpha + beta), -(a * np.sin(alpha) + b * np.sin(alpha + beta))]\n",
        "\n",
        "l = 1\n",
        "a = 1\n",
        "b_min = 0.8\n",
        "b_max = 1.2\n",
        "\n",
        "points = []\n",
        "\n",
        "for alpha in np.linspace(-np.pi/2, np.pi/2):\n",
        "  for beta in np.linspace(-np.pi/2, np.pi/2):\n",
        "    for b in np.linspace(0.8, 1.2):\n",
        "      p = r(l, a, b, alpha, beta)\n",
        "      if p[0] >= 0:\n",
        "        points.append(p)\n",
        "\n",
        "points_x = [p[0] for p in points]\n",
        "points_y = [p[1] for p in points]\n",
        "\n",
        "plt.figure(figsize=(10,10))\n",
        "plt.grid()\n",
        "plt.xlim(0, l + a + b_max)\n",
        "plt.scatter(points_x, points_y)\n",
        "plt.plot()"
      ],
      "execution_count": 3,
      "outputs": [
        {
          "output_type": "execute_result",
          "data": {
            "text/plain": [
              "[]"
            ]
          },
          "metadata": {
            "tags": []
          },
          "execution_count": 3
        },
        {
          "output_type": "display_data",
          "data": {
            "image/png": "[encoded data removed]",
            "text/plain": [
              "<Figure size 720x720 with 1 Axes>"
            ]
          },
          "metadata": {
            "tags": []
          }
        }
      ]
    },
    {
      "cell_type": "code",
      "metadata": {
        "id": "31QGOYtKrHi4",
        "colab_type": "code",
        "colab": {}
      },
      "source": [
        ""
      ],
      "execution_count": 0,
      "outputs": []
    }
  ]
}