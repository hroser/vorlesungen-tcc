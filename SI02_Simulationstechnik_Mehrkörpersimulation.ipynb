{
  "nbformat": 4,
  "nbformat_minor": 0,
  "metadata": {
    "colab": {
      "name": "SI02 Simulationstechnik - Mehrkörpersimulation.ipynb",
      "provenance": [],
      "include_colab_link": true
    },
    "kernelspec": {
      "name": "python3",
      "display_name": "Python 3"
    }
  },
  "cells": [
    {
      "cell_type": "markdown",
      "metadata": {
        "id": "view-in-github",
        "colab_type": "text"
      },
      "source": [
        "<a href=\"https://colab.research.google.com/github/tobschaffer/vorlesungen-tcc/blob/master/SI02_Simulationstechnik_Mehrk%C3%B6rpersimulation.ipynb\" target=\"_parent\"><img src=\"https://colab.research.google.com/assets/colab-badge.svg\" alt=\"Open In Colab\"/></a>"
      ]
    },
    {
      "cell_type": "markdown",
      "metadata": {
        "id": "y9WzEcQTjmzS",
        "colab_type": "text"
      },
      "source": [
        "# SI02 Simulationstechnik - Mehrkörpersimulation"
      ]
    },
    {
      "cell_type": "code",
      "metadata": {
        "id": "tY-IyJqKjlyz",
        "colab_type": "code",
        "colab": {}
      },
      "source": [
        ""
      ],
      "execution_count": 0,
      "outputs": []
    }
  ]
}