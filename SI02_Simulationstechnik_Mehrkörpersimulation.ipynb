{
  "nbformat": 4,
  "nbformat_minor": 0,
  "metadata": {
    "colab": {
      "name": "SI02 Simulationstechnik - Mehrkörpersimulation.ipynb",
      "provenance": [],
      "include_colab_link": true
    },
    "kernelspec": {
      "name": "python3",
      "display_name": "Python 3"
    }
  },
  "cells": [
    {
      "cell_type": "markdown",
      "metadata": {
        "id": "view-in-github",
        "colab_type": "text"
      },
      "source": [
        "<a href=\"https://colab.research.google.com/github/tobschaffer/vorlesungen-tcc/blob/master/SI02_Simulationstechnik_Mehrk%C3%B6rpersimulation.ipynb\" target=\"_parent\"><img src=\"https://colab.research.google.com/assets/colab-badge.svg\" alt=\"Open In Colab\"/></a>"
      ]
    },
    {
      "cell_type": "markdown",
      "metadata": {
        "id": "y9WzEcQTjmzS",
        "colab_type": "text"
      },
      "source": [
        "# SI02 Simulationstechnik - Mehrkörpersimulation"
      ]
    },
    {
      "cell_type": "markdown",
      "metadata": {
        "id": "7UxFGo91MGI8",
        "colab_type": "text"
      },
      "source": [
        "Prüfung:  \n",
        "- Multiple Choice Teil\n",
        "- Aufgabe zur Mehrkörpersim. flaches System (wie auf Übungszettel)\n",
        "- Aufgabe zu lin. Systemen, Blockschaltbild\n",
        "- Aufgabe zu numerischen Methoden (Euler-Verfahren, z.B. einen Euler-Schritt berechnen)\n",
        "- evtl. Aufgabe zu FEM, z.B. finite Differenzen (eher im Fragenteil)"
      ]
    },
    {
      "cell_type": "markdown",
      "metadata": {
        "id": "ZzBZ9VHkNv5F",
        "colab_type": "text"
      },
      "source": [
        "- Lagebeschreibung: Translationslage, Rotationslage (Kardan- und Eulerwinkel, Eulerparameter), Transformationsmatrizen\n",
        "- Lage Punkt auf Körper (siehe Formelzettel)\n",
        "- Euler'sche Geschwindigkeitsgleichung\n",
        "- allg. Kraftelemente, insb. Feder, Feder-Dämpfer, Lagerelement, Kontaktelemente (einseitig wirkende Feder-Dämpfer-El.)\n",
        "- kinematische und dynamische Differentialgleichungen\n",
        "- holonome und nicht-holonome Bindungen\n",
        "- num. Meth. Euler-Verfahren (explizit und implizit, Runge-Kutta-Verfahren)"
      ]
    },
    {
      "cell_type": "markdown",
      "metadata": {
        "id": "yQbKk4nEKEjk",
        "colab_type": "text"
      },
      "source": [
        "## 1. Dynamik starrer Körper\n",
        "\n",
        "## 2. Bewegungsgleichungen\n",
        "\n",
        "## 3. Kraftelemente\n",
        "\n",
        "## 4. Kinematische Bindungen und verall. Zustandsvektor\n",
        "\n",
        "## 5. Numerische Methoden\n",
        "\n"
      ]
    },
    {
      "cell_type": "code",
      "metadata": {
        "id": "tY-IyJqKjlyz",
        "colab_type": "code",
        "colab": {}
      },
      "source": [
        ""
      ],
      "execution_count": 0,
      "outputs": []
    }
  ]
}