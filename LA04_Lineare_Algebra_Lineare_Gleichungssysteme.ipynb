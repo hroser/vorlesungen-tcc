{
  "nbformat": 4,
  "nbformat_minor": 0,
  "metadata": {
    "colab": {
      "name": "LA04 Lineare Algebra - Lineare Gleichungssysteme.ipynb",
      "provenance": [],
      "include_colab_link": true
    },
    "kernelspec": {
      "name": "python3",
      "display_name": "Python 3"
    }
  },
  "cells": [
    {
      "cell_type": "markdown",
      "metadata": {
        "id": "view-in-github",
        "colab_type": "text"
      },
      "source": [
        "<a href=\"https://colab.research.google.com/github/tobschaffer/vorlesungen-tcc/blob/master/LA04_Lineare_Algebra_Lineare_Gleichungssysteme.ipynb\" target=\"_parent\"><img src=\"https://colab.research.google.com/assets/colab-badge.svg\" alt=\"Open In Colab\"/></a>"
      ]
    },
    {
      "cell_type": "markdown",
      "metadata": {
        "id": "AGQmeHVUhVZ5",
        "colab_type": "text"
      },
      "source": [
        "# LA04 Lineare Algebra - Lineare Gleichungssysteme"
      ]
    },
    {
      "cell_type": "code",
      "metadata": {
        "id": "XMUQDaY2hUWd",
        "colab_type": "code",
        "colab": {}
      },
      "source": [
        ""
      ],
      "execution_count": 0,
      "outputs": []
    }
  ]
}