{
  "nbformat": 4,
  "nbformat_minor": 0,
  "metadata": {
    "colab": {
      "name": "DG01 Gew. Differentialgleichungen - Grundlagen.ipynb",
      "provenance": [],
      "include_colab_link": true
    },
    "kernelspec": {
      "name": "python3",
      "display_name": "Python 3"
    }
  },
  "cells": [
    {
      "cell_type": "markdown",
      "metadata": {
        "id": "view-in-github",
        "colab_type": "text"
      },
      "source": [
        "<a href=\"https://colab.research.google.com/github/tobschaffer/vorlesungen-tcc/blob/master/DG01_Gew_Differentialgleichungen_Grundlagen.ipynb\" target=\"_parent\"><img src=\"https://colab.research.google.com/assets/colab-badge.svg\" alt=\"Open In Colab\"/></a>"
      ]
    },
    {
      "cell_type": "markdown",
      "metadata": {
        "id": "Z1bC7QERh-kv",
        "colab_type": "text"
      },
      "source": [
        "# DG01 Gew. Differentialgleichungen - Grundlagen"
      ]
    },
    {
      "cell_type": "markdown",
      "metadata": {
        "id": "RdONYZke3OYS",
        "colab_type": "text"
      },
      "source": [
        "## Definition gewöhnliche Differentialgleichung"
      ]
    },
    {
      "cell_type": "markdown",
      "metadata": {
        "id": "rVxWrCbr3TyR",
        "colab_type": "text"
      },
      "source": [
        "### Ordnung einer gew. DGL\n",
        "\n",
        "Die Ordnung eienr gew. Differentialgleichung ist der Grad der höchsten vorkommenden Ableitung.\n",
        "\n",
        "Beispiel:\n",
        "\n",
        "Die Differentialgleichung $y^{(4)} - 3y''' + \\sin(x)y = 0$ hat Ordnung 3.\n",
        "\n",
        "### Lineare Differentialgleichungen\n",
        "\n",
        "Eine Differentialgleichung heißt linear wenn $y$ und dessen Ableitungen $y^{(n)}$ nur linear vorkommen, das heißt die DGL muss die Form\n",
        "\n",
        "$$\n",
        "g_n(x)\\cdot y^{(n)} + g_{n-1}(x)\\cdot y^{(n-1)} + ... + g_1(x)\\cdot y' + g_0(x) \\cdot y = h(x)\n",
        "$$\n",
        "\n",
        "Beispiele:\n",
        "\n",
        "- $y^{(4)} - 3y''' + \\sin(x)y = 0$ ist eine lineare DGL (4. Ord)\n",
        "- $x^2y'' - y' + \\frac{1}{x}y = 0$ ist eine lineare DGL (2. Ord)\n",
        "- $y'' - (y')^2 + 2y = 0$ ist nicht linear \n",
        "- $y'' - e^xy' + 2y'y = 0$ ist nicht linear \n",
        "\n",
        "### Homogene und inhomogene DGL\n",
        "\n",
        "Eine lineare Differentialgleichung\n",
        "\n",
        "$$\n",
        "g_n(x)\\cdot y^{(n)} + g_{n-1}(x)\\cdot y^{(n-1)} + ... + g_1(x)\\cdot y' + g_0(x) \\cdot y = h(x)\n",
        "$$\n",
        "\n",
        "heißt **homogen**, wenn $h(x) = 0$ konstant Null ist.\n",
        "Anderfalls heißt die DGL **inhomogen**. Man nennt $h(x)$ den Störterm oder die Inhomogenität.\n",
        "\n",
        "Beispiele:\n",
        "\n",
        "- $y^{(4)} - 3y''' + \\sin(x)y = 0$ ist eine lineare DGL, 4. Ord, homogen\n",
        "- $x^2y'' - y' + \\frac{1}{x}y = 0$ ist eine lineare DGL, 2. Ord, homogen\n",
        "- $x^2y'' - y' = 5x$ ist eine lineare DGL, 2. Ord, inhomogen\n",
        "- $y'' - 4y' - \\sin(x)= 0$ ist eine lineare DGL, 2. Ord, inhomogen\n",
        "\n",
        "### Lineare Differentialgl. mit konstanten Koeffizienten\n",
        "\n",
        "Eine Differentialgleichung der Form\n",
        "\n",
        "$$\n",
        "a_n\\cdot y^{(n)} + a_{n-1}\\cdot y^{(n-1)} + ... + a_1(x)\\cdot y' + a_0(x) \\cdot y = h(x)\n",
        "$$\n",
        "\n",
        "mit $a_0, ... , a_n \\in \\mathbb{R}$ nennt man gew. Differentialgleichung mit konstanten Koeffizienten.\n",
        "\n",
        "### Anfangswerte und Randwerte\n"
      ]
    },
    {
      "cell_type": "code",
      "metadata": {
        "id": "v6LLZQfYh9c3",
        "colab_type": "code",
        "colab": {}
      },
      "source": [
        ""
      ],
      "execution_count": 0,
      "outputs": []
    }
  ]
}