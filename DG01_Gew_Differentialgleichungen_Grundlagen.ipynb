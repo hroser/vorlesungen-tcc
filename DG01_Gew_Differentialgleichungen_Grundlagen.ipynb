{
  "nbformat": 4,
  "nbformat_minor": 0,
  "metadata": {
    "colab": {
      "name": "DG01 Gew. Differentialgleichungen - Grundlagen.ipynb",
      "provenance": [],
      "include_colab_link": true
    },
    "kernelspec": {
      "name": "python3",
      "display_name": "Python 3"
    }
  },
  "cells": [
    {
      "cell_type": "markdown",
      "metadata": {
        "id": "view-in-github",
        "colab_type": "text"
      },
      "source": [
        "<a href=\"https://colab.research.google.com/github/tobschaffer/vorlesungen-tcc/blob/master/DG01_Gew_Differentialgleichungen_Grundlagen.ipynb\" target=\"_parent\"><img src=\"https://colab.research.google.com/assets/colab-badge.svg\" alt=\"Open In Colab\"/></a>"
      ]
    },
    {
      "cell_type": "markdown",
      "metadata": {
        "id": "Z1bC7QERh-kv",
        "colab_type": "text"
      },
      "source": [
        "# DG01 Gew. Differentialgleichungen - Grundlagen"
      ]
    },
    {
      "cell_type": "code",
      "metadata": {
        "id": "v6LLZQfYh9c3",
        "colab_type": "code",
        "colab": {}
      },
      "source": [
        ""
      ],
      "execution_count": 0,
      "outputs": []
    }
  ]
}