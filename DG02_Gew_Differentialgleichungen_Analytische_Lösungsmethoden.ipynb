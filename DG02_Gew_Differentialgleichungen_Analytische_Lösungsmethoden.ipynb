{
  "nbformat": 4,
  "nbformat_minor": 0,
  "metadata": {
    "colab": {
      "name": "DG02 Gew. Differentialgleichungen - Analytische Lösungsmethoden.ipynb",
      "provenance": [],
      "include_colab_link": true
    },
    "kernelspec": {
      "name": "python3",
      "display_name": "Python 3"
    }
  },
  "cells": [
    {
      "cell_type": "markdown",
      "metadata": {
        "id": "view-in-github",
        "colab_type": "text"
      },
      "source": [
        "<a href=\"https://colab.research.google.com/github/tobschaffer/vorlesungen-tcc/blob/master/DG02_Gew_Differentialgleichungen_Analytische_L%C3%B6sungsmethoden.ipynb\" target=\"_parent\"><img src=\"https://colab.research.google.com/assets/colab-badge.svg\" alt=\"Open In Colab\"/></a>"
      ]
    },
    {
      "cell_type": "markdown",
      "metadata": {
        "id": "tg0GRl1WiRQ1",
        "colab_type": "text"
      },
      "source": [
        "# DG02 Gew. Differentialgleichungen - Analytische Lösungsmethoden"
      ]
    },
    {
      "cell_type": "markdown",
      "metadata": {
        "id": "8Gy_yXisFONu",
        "colab_type": "text"
      },
      "source": [
        "## Lösung durch Trennung der Variablen\n",
        "\n",
        "Übungsaufgaben:\n",
        "\n",
        "- G6, G7, G8, G9, G10, G11 (allg. DGL 1. Ord, Trennung d. Var.)\n",
        "- G25, G26, G27 (lin. inhom. DGL 1. Ord, Trennung d. Var, Variation d. Konstanten)\n",
        "- G53, G54, G55 (lin. hom. DGL 2. Ord, Lösung mit char. Gleichung)\n",
        "- G58, G59, G60 (lin. inhom. DGL 2. Ord, Lösung mit char. Gleichung, Lösungsansatz für partikuläre Lsg.)\n",
        "- G76, G80 (lin. hom. DGL höherer Ord, Lösung mit char. Gleichung)\n",
        "- G62, G66, G67 (lin. inhom. DGL 2. Ord, Lösung mit char. Gleichung, Lösungsansatz für partikuläre Lsg., Rand-/Anfangswerte)\n",
        "\n"
      ]
    },
    {
      "cell_type": "markdown",
      "metadata": {
        "id": "ZA1CXTrX94qN",
        "colab_type": "text"
      },
      "source": [
        "## Lösungsverfahren für gew. Differentialgleichungen mit konstanten Koeffizienten\n",
        "\n",
        "Ist eine homogene DGL mit konstanten Koeffizienten der Form\n",
        "\n",
        "$$\n",
        "a_n\\cdot y^{(n)} + a_{n-1}\\cdot y^{(n-1)} + ... + a_1(x)\\cdot y' + a_0(x) \\cdot y = 0\n",
        "$$\n",
        "\n",
        "gegeben. Dann wird die sog. charakteristische Gleichung in $\\lambda$ wie folgt aufgestellt:\n",
        "\n",
        "$$\n",
        "a_n\\cdot \\lambda^{n} + a_{n-1}\\cdot \\lambda^{n-1} + ... + a_1(x)\\cdot \\lambda + a_0(x) = 0\n",
        "$$\n",
        "\n",
        "Dann werden die Nullstellen dieser Gleichung bestimmt. Abhängig von der Vielfachheit der Nullstellen und abhängig davon, ob relle oder komplexe Nullstellen vorliegen werden Basisfunktionen des Lösungsraumes aufgestellt:\n",
        "\n",
        "Fall $\\lambda_i$ einfache reelle Nullstelle:\n",
        "\n",
        "Füge $e^{\\lambda_i}$ zur Fundamentalbasis hinzu.\n",
        "\n",
        "Fall $\\lambda_i$ n-fache reelle Nullstelle:\n",
        "\n",
        "Füge die n Funktionen \n",
        "\n",
        "$e^{\\lambda_i}, x\\cdot e^{\\lambda_i}, ... , x^{n-1}\\cdot e^{\\lambda_i}$ \n",
        "\n",
        "zur Fundamentalbasis hinzu.\n",
        "\n",
        "Fall $\\lambda_i \\pm \\omega_i j $ komplexes Nullstellenpaar:\n",
        "\n",
        "Füge die beiden Funktionen\n",
        "\n",
        "$e^{\\lambda_i} \\cdot \\sin(\\omega_i x), e^{\\lambda_i} \\cdot \\cos(\\omega_i x)$\n",
        "\n",
        "zur Fundamentalbasis hinzu.\n",
        "\n",
        "Die allg. Lösung $y$ der DGL erhält man als Linearkombination der Funktionen der Fundamentalbasis.\n"
      ]
    },
    {
      "cell_type": "code",
      "metadata": {
        "id": "Io888DVciO25",
        "colab_type": "code",
        "colab": {}
      },
      "source": [
        ""
      ],
      "execution_count": 0,
      "outputs": []
    }
  ]
}