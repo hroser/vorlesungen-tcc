{
  "nbformat": 4,
  "nbformat_minor": 0,
  "metadata": {
    "colab": {
      "name": "LA04 Lineare Algebra - Eigenwerte.ipynb",
      "provenance": [],
      "collapsed_sections": [],
      "toc_visible": true,
      "include_colab_link": true
    },
    "kernelspec": {
      "name": "python3",
      "display_name": "Python 3"
    }
  },
  "cells": [
    {
      "cell_type": "markdown",
      "metadata": {
        "id": "view-in-github",
        "colab_type": "text"
      },
      "source": [
        "<a href=\"https://colab.research.google.com/github/tobschaffer/vorlesungen-tcc/blob/master/LA04_Lineare_Algebra_Eigenwerte.ipynb\" target=\"_parent\"><img src=\"https://colab.research.google.com/assets/colab-badge.svg\" alt=\"Open In Colab\"/></a>"
      ]
    },
    {
      "cell_type": "markdown",
      "metadata": {
        "id": "xMYixOLqhl-o",
        "colab_type": "text"
      },
      "source": [
        "# LA04 Lineare Algebra - Eigenwerte"
      ]
    },
    {
      "cell_type": "markdown",
      "metadata": {
        "id": "Hq87teqw-tPd",
        "colab_type": "text"
      },
      "source": [
        "### Definition: Eigenwert\n",
        "\n",
        "> Ist $A \\in \\mathbb{R}^{n x n}$ eine quadratische nxn -Matrix, dann heißt $\\lambda \\in \\mathbb{R}$ **Eigenwert** von $A$ wenn es einen Vektor $v \\in \\mathbb{R}^n$ ($v \\neq 0$) gibt, so dass gilt:\n",
        ">  \n",
        ">$$\n",
        "A \\cdot v = \\lambda \\cdot v\n",
        "$$\n",
        ">  \n",
        "> Das heißt $A$ wirkt auf $v$ wie die skalara Multiplikation mit $\\lambda$. In Richtung $v$ findet durch Anwendung der linearen Abbildung $A$ also **keine** Richtungsänderung, sondern nur eine Längenänderung statt. Man nennt $v$ dann einen **Eigenvektor** zu $\\lambda$.\n",
        "  "
      ]
    },
    {
      "cell_type": "markdown",
      "metadata": {
        "id": "KFJeMuIcC_-w",
        "colab_type": "text"
      },
      "source": [
        "Bemerkungen:\n",
        "\n",
        "- Eigenvektoren sind nicht eindeutig, z.B. ist jedes skalare Vielfache eines Eigenvektors wieder ein Eigenvektor zum gleichen Eigenwert.\n",
        "- Für eine gegebene Matrix $A$ ist nicht jeder reelle Wert ein Eigenwert, d.h. es gibt nicht für jeden skalaren Wert in $\\mathbb{R}$ einen ensprechenden Eigenvektor. Im Gegenteil gibt es zu einer gegebenen nxn-Matrix $A$ nur **wenige** Eigenwerte (höchstens n viele verschiendene).\n",
        "- Eine Matrix kann verschiendene Eigenwerte haben. Mit Vielfachheit kann eine nxn-Matrix **höchstens n reelle** Eigenwerte haben.\n",
        "- Symmetrische nxn-Matrizen haben (mit Vielfachheit) **genau n relle** Eigenwerte."
      ]
    },
    {
      "cell_type": "markdown",
      "metadata": {
        "id": "MRhF4LqAFeUt",
        "colab_type": "text"
      },
      "source": [
        "Beispiel:  \n",
        "\n",
        "$A = \\begin{pmatrix} 3 & -1 \\\\ -2 & 4 \\end{pmatrix} \\in \\mathbb{R}^{2 x 2}$ ist eine quadratische 2x2-Matrix. Sie hat den Eigenwert 2, denn für $v = \\begin{pmatrix} 1 \\\\ 1 \\end{pmatrix}$ gilt: \n",
        "\n",
        "$$\n",
        "A \\cdot v = \\begin{pmatrix} 3 & -1 \\\\ -2 & 4 \\end{pmatrix} = \\begin{pmatrix} 2 \\\\ 2 \\end{pmatrix} = 2 \\cdot v\n",
        "$$  \n",
        "\n",
        "Damit ist $v$ *ein* **Eigenvektor** zum **Eigenwert** 2 (beachte, $v$ ist nicht *der* Eigenvektor zum Eigenwert 2, da es zu jedem Eigenwert stets unendlich viele Eigenvektoren gibt)."
      ]
    },
    {
      "cell_type": "code",
      "metadata": {
        "id": "gBciEi-3ooVm",
        "colab_type": "code",
        "outputId": "3f7de194-b7ab-4fd6-d804-30790cc27601",
        "colab": {
          "base_uri": "https://localhost:8080/",
          "height": 204
        }
      },
      "source": [
        "'''\n",
        "Obige Berechnung mit numpy durchführen\n",
        "'''\n",
        "# NumPy Modul für numerische Berechnungen importieren\n",
        "import numpy as np\n",
        "\n",
        "'''\n",
        "Mehrdimensionale Arrays (z.B. auch Matrizen) werden als np.array angelegt.\n",
        "Diese sind hirarchisch aus eindimensionalen Arrays [a, b, c, ...] aufgebaut.\n",
        "'''\n",
        "\n",
        "# Matrix A anlegen\n",
        "A = np.array([[3, -1], [-2, 4]])\n",
        "\n",
        "'''\n",
        "Strings werden in Anführungszeichen gesetzt: \"text text\" oder 'text text'.\n",
        "Sogenannte f-Strings (ab Python 3) erlauben eine kompakte Schreibweise formatierter Strings:\n",
        "f\"text text {variable}\"\n",
        "\\n ist die Escape Sequenz für einen Zeilenumruch\n",
        "'''\n",
        "\n",
        "# Matrix A anzeigen\n",
        "print(f\"A = \\n{A}\\n\")\n",
        "\n",
        "'''\n",
        "Achtung, np.array([[1], [1]]) bildet einen Spaltenvektor, \n",
        "np.array([1, 1]) bildet einen Zeilenvektor\n",
        "'''\n",
        "\n",
        "# Vektor v anlegen\n",
        "v = np.array([[1], [1]])\n",
        "\n",
        "# Vektor v anzeigen\n",
        "print(f\"v = \\n{v}\\n\")\n",
        "\n",
        "'''\n",
        "Achtung, für die Matrix Multiplikation immer array.dot() benutzen\n",
        "A*v liefert z.B. ein anderes Ergebnis (komponentenweise Mult.)\n",
        "'''\n",
        "\n",
        "# Matrix-Multiplukation durchführen\n",
        "print(f\"Av = \\n{A.dot(v)}\")"
      ],
      "execution_count": 0,
      "outputs": [
        {
          "output_type": "stream",
          "text": [
            "A = \n",
            "[[ 3 -1]\n",
            " [-2  4]]\n",
            "\n",
            "v = \n",
            "[[1]\n",
            " [1]]\n",
            "\n",
            "Av = \n",
            "[[2]\n",
            " [2]]\n"
          ],
          "name": "stdout"
        }
      ]
    },
    {
      "cell_type": "markdown",
      "metadata": {
        "id": "baFkb2M3JTpl",
        "colab_type": "text"
      },
      "source": [
        "### Aufgabe LA04-A1\n",
        "\n",
        "- Zeige: $w = \\begin{pmatrix} -5 \\\\ -5 \\end{pmatrix}$ ist ein Eigenvektor zum Eigenwert 2 für die Matrix $A = \\begin{pmatrix} 3 & -1 \\\\ -2 & 4 \\end{pmatrix}$\n",
        "- Zeige: $w = \\begin{pmatrix} 1 \\\\ -5 \\end{pmatrix}$ ist **kein** Eigenvektor der Matrix $A = \\begin{pmatrix} 3 & -1 \\\\ -2 & 4 \\end{pmatrix}$\n"
      ]
    },
    {
      "cell_type": "markdown",
      "metadata": {
        "id": "iR3-vZOEP6q9",
        "colab_type": "text"
      },
      "source": [
        "### Aufgabe LA04-A2\n",
        "\n",
        "Zeige, dass $u = \\begin{pmatrix} 10 \\\\ 3 \\\\ -11 \\end{pmatrix}$, $v = \\begin{pmatrix} -1 \\\\ 0 \\\\ 1 \\end{pmatrix}$ und $w = \\begin{pmatrix} 4 \\\\ 3 \\\\ -7 \\end{pmatrix}$ Eigenverktoren der Matrix $A = \\begin{pmatrix} 2 & -3 & 1 \\\\ 3 & 1 & 3 \\\\ -5 & 2 & -4 \\end{pmatrix}$ sind und bestimme die zugehörigen Eigenwerte. "
      ]
    },
    {
      "cell_type": "markdown",
      "metadata": {
        "id": "BZrLneSDR302",
        "colab_type": "text"
      },
      "source": [
        "### Aufgabe LA04-A3\n",
        "\n",
        "Konstruiere eine 2x2-Matrix mit den Eigenwerten $2$ und $3$."
      ]
    },
    {
      "cell_type": "markdown",
      "metadata": {
        "id": "kSweq05JTpeN",
        "colab_type": "text"
      },
      "source": [
        "### Definition: Charakteristisches Polynom einer Matrix\n",
        "\n",
        ">Ist $A \\in \\mathbb{R}^{nxn}$ eine quadratische Matrix, dann bezeichnet man das Polynom, das durch die folgende Determinantenbildung entsteht\n",
        ">\n",
        ">$$\n",
        "P(\\lambda) = \\det(A-\\lambda \\cdot E)\n",
        "$$\n",
        ">\n",
        ">als **charakteristisches Polynom** von $A$. Die entsprechende Polynomgleichung \n",
        ">\n",
        ">$$\n",
        "\\det(A-\\lambda \\cdot E) = 0\n",
        "$$\n",
        ">\n",
        ">bezeichnet man als **charakteristische Gleichung** von $A$.  \n",
        ">\n",
        ">Dabei bezeichnet $E$ die nxn-Einheitsmatrix.\n",
        "\n"
      ]
    },
    {
      "cell_type": "markdown",
      "metadata": {
        "id": "CEDWjREzVfOo",
        "colab_type": "text"
      },
      "source": [
        "Beispiel:\n",
        "\n",
        "Das charakteristische Polynom $P(\\lambda)$ von $A = \\begin{pmatrix} 3 & -1 \\\\ -2 & 4 \\end{pmatrix} \\in \\mathbb{R}^{2 x 2}$ ist:  \n",
        "\n",
        "$$\n",
        "\\begin{split}\n",
        "P(\\lambda) & = \\det(A - \\lambda \\cdot E) \\\\\n",
        "& = \\det\\begin{pmatrix} 3 - \\lambda & -1 \\\\ -2 & 4 - \\lambda \\end{pmatrix} \\\\\n",
        "& = (3 - \\lambda)(4 - \\lambda) - (-2)(-1) \\\\\n",
        "& = \\lambda^2 - 7\\lambda + 10\n",
        "\\end{split}\n",
        "$$\n",
        "\n"
      ]
    },
    {
      "cell_type": "markdown",
      "metadata": {
        "id": "eDkKeoOhUFaW",
        "colab_type": "text"
      },
      "source": [
        "### Berechnung der Eigenwerte einer Matrix\n",
        "\n",
        ">Die Eigenwerte einer Matrix $A$ erhält man als Nullstellen ihres charakteristischen Polynoms.  \n",
        ">\n",
        ">Die Eigenvektoren zu einem Eigenwert $\\lambda$ erhält man als Lösungsmenge des linearen Gleichungssystems $A - \\lambda E = 0$."
      ]
    },
    {
      "cell_type": "markdown",
      "metadata": {
        "id": "nWaOrLtQZn32",
        "colab_type": "text"
      },
      "source": [
        "### Aufgabe LA04-A4\n",
        "\n",
        "a) Bestimme die Eigenwerte der Matrix $A = \\begin{pmatrix} 2 & 1 & 2 \\\\ 1 & 2 & 2 \\\\ 1 & 1 & 3 \\end{pmatrix}$. Bestimme zu jedem Eigenwert mindestens einen Eigenvektor.\n",
        "\n",
        "b) Bestimme die Eigenwerte der Matrix $B = \\begin{pmatrix} 2 & 0 & -2 \\\\ 0 & 4 & 0 \\\\ -2 & 0 & 5 \\end{pmatrix}$."
      ]
    },
    {
      "cell_type": "code",
      "metadata": {
        "id": "XjvtKoSZTkLP",
        "colab_type": "code",
        "outputId": "0ea93819-39f2-4f51-d764-fe9dd7e8f3ee",
        "colab": {
          "base_uri": "https://localhost:8080/",
          "height": 34
        }
      },
      "source": [
        "'''\n",
        "Ergebnis aus Aufgabe LA04-04 numerisch verifizieren\n",
        "'''\n",
        "\n",
        "import numpy as np\n",
        "\n",
        "A = np.array([[2, 0, -2], [0, 4, 0], [-2, 0, 5]])\n",
        "\n",
        "# Eigenwerte und Eigenvektoren berechnen (numerische Berechnung)\n",
        "[eigenvalues, eigenvectors] = np.linalg.eig(A)\n",
        "\n",
        "# Eigenwerte anzeigen\n",
        "print(eigenvalues)"
      ],
      "execution_count": 0,
      "outputs": [
        {
          "output_type": "stream",
          "text": [
            "[1. 6. 4.]\n"
          ],
          "name": "stdout"
        }
      ]
    },
    {
      "cell_type": "markdown",
      "metadata": {
        "id": "Sgi1P69weXpH",
        "colab_type": "text"
      },
      "source": [
        "### Aufgabe LA04-A5\n",
        "\n",
        "Bestimme die Eigenwerte der Matrix $C = \\begin{pmatrix} 1 & 2 & 1 \\\\ 6 & -1 & 0 \\\\ -1 & -2 & -1 \\end{pmatrix}$ und verifiziere das Ergebnis numerisch."
      ]
    },
    {
      "cell_type": "markdown",
      "metadata": {
        "id": "SElEEyXdTk21",
        "colab_type": "text"
      },
      "source": [
        "### Weiterführende Literatur\n",
        "\n",
        "Bitte Wikipedia Eintrag dazu lesen:  \n",
        "\n",
        "https://de.wikipedia.org/wiki/Eigenwertproblem\n",
        "\n"
      ]
    },
    {
      "cell_type": "code",
      "metadata": {
        "id": "BvgMzXPnfQSJ",
        "colab_type": "code",
        "colab": {}
      },
      "source": [
        ""
      ],
      "execution_count": 0,
      "outputs": []
    }
  ]
}