{
  "nbformat": 4,
  "nbformat_minor": 0,
  "metadata": {
    "colab": {
      "name": "AN03 Analysis - Integralrechnung.ipynb",
      "provenance": [],
      "include_colab_link": true
    },
    "kernelspec": {
      "name": "python3",
      "display_name": "Python 3"
    }
  },
  "cells": [
    {
      "cell_type": "markdown",
      "metadata": {
        "id": "view-in-github",
        "colab_type": "text"
      },
      "source": [
        "<a href=\"https://colab.research.google.com/github/tobschaffer/vorlesungen-tcc/blob/master/AN03_Analysis_Integralrechnung.ipynb\" target=\"_parent\"><img src=\"https://colab.research.google.com/assets/colab-badge.svg\" alt=\"Open In Colab\"/></a>"
      ]
    },
    {
      "cell_type": "markdown",
      "metadata": {
        "id": "NkxYCY-ifhD2",
        "colab_type": "text"
      },
      "source": [
        "# AN03 Analysis - Integralrechnung"
      ]
    },
    {
      "cell_type": "markdown",
      "metadata": {
        "id": "jANTTrRN4G61",
        "colab_type": "text"
      },
      "source": [
        "Übungsaufgaben:\n",
        "\n",
        "C17, C18 (partielle Integration)   \n",
        "C1, C2, C7 (Substitution)  \n",
        "F1, F2, F3 (Doppelintegral)\n",
        "\n",
        "---\n",
        "F34, F35, F36 (Dreifachintegrale)  \n",
        "F17, F18 (Doppelintegrale in Polarkoord.)  \n",
        "\n",
        "---\n",
        "\n",
        "\n",
        "Übungsblatt für gew. Integrale\n",
        "\n",
        "\n",
        "Beispiel Partialbruchzerl:\n",
        "$$\n",
        "\\frac{x+1}{x^3-5x^2+8x-4}\n",
        "$$\n",
        "\n",
        "Beispiele in Vorl.:\n",
        "\n",
        "$$\n",
        "\\int_{x=0}^2 \\int_{y=-1}^{1} \\int_{z=0}^{1} 1+2x-z^3 dz dy dx = 11\n",
        "$$\n",
        "\n",
        "Todo:  \n",
        "$$\n",
        "\\int_{z=0}^1 \\int_{y=1}^{z-1} \\int_{x=-y}^{y+z^2} x+y+z^2 dx dy dz = -\\frac{8}{5}  oder -\\frac{91}{90}\n",
        "$$"
      ]
    },
    {
      "cell_type": "markdown",
      "metadata": {
        "id": "lZKrQd7M4e2R",
        "colab_type": "text"
      },
      "source": [
        "Def. gew. Integral  \n",
        "Regeln und Integrationsmethoden für gew. Integrale  \n",
        "Partielle Int., Substitution, Integration mit Hilfe v. Partialbruchzerlegung\n",
        "\n",
        "Def. Mehrfachintegral (Zwei-/Dreifachintegral)  \n",
        "Regeln für Mehrfachintegrale\n",
        "\n",
        "Hauptsatz der Integral- und Differentialrechnung\n",
        "\n",
        "Koordinatensysteme und entsprechende Integrale\n",
        "- Kartesische Koord.\n",
        "- Polarkoord. \n",
        "- Zylinderkoord.\n",
        "- Kugelkoord.\n",
        "\n",
        "\n"
      ]
    },
    {
      "cell_type": "code",
      "metadata": {
        "id": "Ouu1Qx4aG5Ty",
        "colab_type": "code",
        "colab": {}
      },
      "source": [
        "from scipy import integrate\n",
        "\n",
        "def f(x,y,z):\n",
        "  return x + y + z**2\n",
        "\n",
        "def bounds_z():\n",
        "  return [0, 1]\n",
        "\n",
        "def bounds_y(z):\n",
        "  return [1, z-1]\n",
        "\n",
        "def bounds_x(y,z):\n",
        "  return [-y, y+z**2]\n",
        "\n",
        "I = integrate.nquad(f, [bounds_x, bounds_y, bounds_z])\n"
      ],
      "execution_count": 0,
      "outputs": []
    },
    {
      "cell_type": "code",
      "metadata": {
        "id": "mm0sqVQzfgDr",
        "colab_type": "code",
        "colab": {
          "base_uri": "https://localhost:8080/",
          "height": 34
        },
        "outputId": "9483dd01-22b6-455d-9fb8-fc734ad3debf"
      },
      "source": [
        "I"
      ],
      "execution_count": 10,
      "outputs": [
        {
          "output_type": "execute_result",
          "data": {
            "text/plain": [
              "(-1.7833333333333334, 8.273714535293124e-14)"
            ]
          },
          "metadata": {
            "tags": []
          },
          "execution_count": 10
        }
      ]
    },
    {
      "cell_type": "code",
      "metadata": {
        "id": "OtwRTQi-JTWK",
        "colab_type": "code",
        "colab": {}
      },
      "source": [
        "def f(x,y,z):\n",
        "  return 1 + 2*x - z**3\n",
        "\n",
        "def bounds_x():\n",
        "  return [0, 2]\n",
        "\n",
        "def bounds_y(x):\n",
        "  return [-1, 1]\n",
        "\n",
        "def bounds_z(x,y):\n",
        "  return [0, 1]\n",
        "\n",
        "I = integrate.nquad(f, [bounds_z, bounds_y, bounds_x])"
      ],
      "execution_count": 0,
      "outputs": []
    },
    {
      "cell_type": "code",
      "metadata": {
        "id": "DBGD1USeHm-b",
        "colab_type": "code",
        "colab": {
          "base_uri": "https://localhost:8080/",
          "height": 34
        },
        "outputId": "83646cce-81b0-4c2c-a6fe-7b02bceaabcc"
      },
      "source": [
        "I"
      ],
      "execution_count": 25,
      "outputs": [
        {
          "output_type": "execute_result",
          "data": {
            "text/plain": [
              "(0.0, 1.32072109599883e-13)"
            ]
          },
          "metadata": {
            "tags": []
          },
          "execution_count": 25
        }
      ]
    },
    {
      "cell_type": "code",
      "metadata": {
        "id": "5WifllS_I9VW",
        "colab_type": "code",
        "colab": {}
      },
      "source": [
        ""
      ],
      "execution_count": 0,
      "outputs": []
    }
  ]
}