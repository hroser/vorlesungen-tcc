{
  "nbformat": 4,
  "nbformat_minor": 0,
  "metadata": {
    "colab": {
      "name": "SI04 Simulationstechnik - FEM Simulation.ipynb",
      "provenance": [],
      "include_colab_link": true
    },
    "kernelspec": {
      "name": "python3",
      "display_name": "Python 3"
    }
  },
  "cells": [
    {
      "cell_type": "markdown",
      "metadata": {
        "id": "view-in-github",
        "colab_type": "text"
      },
      "source": [
        "<a href=\"https://colab.research.google.com/github/tobschaffer/vorlesungen-tcc/blob/master/SI04_Simulationstechnik_FEM_Simulation.ipynb\" target=\"_parent\"><img src=\"https://colab.research.google.com/assets/colab-badge.svg\" alt=\"Open In Colab\"/></a>"
      ]
    },
    {
      "cell_type": "markdown",
      "metadata": {
        "id": "Vl-iazXCkM2e",
        "colab_type": "text"
      },
      "source": [
        "# SI04 Simulationstechnik - FEM Simulation"
      ]
    },
    {
      "cell_type": "markdown",
      "metadata": {
        "id": "NMSYUHLUvUOl",
        "colab_type": "text"
      },
      "source": [
        "## Finite Differenzen \n",
        "\n",
        "Sogenannte Finite-Differenzen Methoden verwenden Auswertungen einer gegebenen Funktion an Nachbarpunkten zur näherungsweisen Berechnung von Ortsableitungen.\n",
        "\n",
        "Eine häufig verwendete Näherung für die zweite Ableitung einer Funktion $f(x)$ am Punkt $x$ wird im Folgenden hergeleitet.\n",
        "\n"
      ]
    },
    {
      "cell_type": "markdown",
      "metadata": {
        "id": "5EhjBKx9ycJo",
        "colab_type": "text"
      },
      "source": [
        "\n",
        "Taylornäherung zweiter Ordnung für $f(x+h)$ ist:\n",
        "\n",
        "$$f(x+h) \\approx f(x) + hf'(x) + \\frac{1}{2}h^2f''(x)$$\n",
        "\n",
        "Taylornäherung zweiter Ordnung für $f(x-h)$ ist:\n",
        "\n",
        "$$f(x-h) \\approx f(x) - hf'(x) + \\frac{1}{2}h^2f''(x)$$\n",
        "\n",
        "Summe der beiden Gleichungen:\n",
        "\n",
        "$$f(x+h) + f(x-h) \\approx 2f(x) + h^2f''(x)$$"
      ]
    },
    {
      "cell_type": "markdown",
      "metadata": {
        "id": "OiS0OH0fy9ZW",
        "colab_type": "text"
      },
      "source": [
        "Damit erhält man als Näherung für die zweite Ableitung der Funktion $f$ am Punkt $x$:\n",
        "\n",
        "$$f''(x) \\approx \\frac{f(x+h) + f(x-h) - 2f(x)}{h^2}$$\n",
        "\n",
        "mit Funktionswerten $f(x+h)$ und $f(x-h)$ von äquidistanten Nachbarpunkten $x+h$ und $x-h$."
      ]
    },
    {
      "cell_type": "markdown",
      "metadata": {
        "id": "UtLyq3XHvtkT",
        "colab_type": "text"
      },
      "source": [
        "### Beispiel Wäremeleitungsgleichung\n",
        "\n",
        "Die Wäremeverteilung $\\vartheta(t,x,y)$ auf einer dünnen Platte kann mit Hilfe der zweidimensionalen Wärmeleitungsgleichung beschrieben werden:\n",
        "\n",
        "$$\n",
        "\\frac{\\partial \\vartheta(t,x,y)}{\\partial t} = a \\cdot \\left( \\frac{\\partial^2\\vartheta(t,x,y)}{(\\partial x)^2} + \\frac{\\partial^2\\vartheta(t,x,y)}{(\\partial y)^2} \\right)\n",
        "$$"
      ]
    },
    {
      "cell_type": "code",
      "metadata": {
        "id": "n7bHnkjBkHW4",
        "colab_type": "code",
        "colab": {}
      },
      "source": [
        ""
      ],
      "execution_count": 0,
      "outputs": []
    }
  ]
}